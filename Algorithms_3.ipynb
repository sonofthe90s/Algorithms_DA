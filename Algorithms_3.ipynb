{
 "cells": [
  {
   "cell_type": "code",
   "execution_count": 1,
   "metadata": {},
   "outputs": [],
   "source": [
    "import matplotlib.pyplot as plt\n",
    "import numpy as np"
   ]
  },
  {
   "cell_type": "code",
   "execution_count": 2,
   "metadata": {},
   "outputs": [],
   "source": [
    "X = np.array([ [   1,    1,  500,    1],\n",
    "               [   1,    1,  700,    1],\n",
    "               [   1,    2,  750,    2],\n",
    "               [   1,    5,  600,    1],\n",
    "               [   1,    3, 1450,    2],\n",
    "               [   1,    0,  800,    1],\n",
    "               [   1,    5, 1500,    3],\n",
    "               [   1,   10, 2000,    3],\n",
    "               [   1,    1,  450,    1],\n",
    "               [   1,    2, 1000,    2]], dtype = np.float64)\n",
    "\n",
    "y = np.array([0, 0, 1, 0, 1, 0, 1, 0, 1, 1], dtype = np.float64)"
   ]
  },
  {
   "cell_type": "code",
   "execution_count": 3,
   "metadata": {},
   "outputs": [],
   "source": [
    "def standard_scale(x):\n",
    "    res = (x - x.mean()) / x.std()\n",
    "    return res"
   ]
  },
  {
   "cell_type": "code",
   "execution_count": 4,
   "metadata": {},
   "outputs": [
    {
     "data": {
      "text/plain": [
       "array([[ 1.        ,  1.        , -0.97958969,  1.        ],\n",
       "       [ 1.        ,  1.        , -0.56713087,  1.        ],\n",
       "       [ 1.        ,  2.        , -0.46401617,  2.        ],\n",
       "       [ 1.        ,  5.        , -0.77336028,  1.        ],\n",
       "       [ 1.        ,  3.        ,  0.97958969,  2.        ],\n",
       "       [ 1.        ,  0.        , -0.36090146,  1.        ],\n",
       "       [ 1.        ,  5.        ,  1.08270439,  3.        ],\n",
       "       [ 1.        , 10.        ,  2.11385144,  3.        ],\n",
       "       [ 1.        ,  1.        , -1.08270439,  1.        ],\n",
       "       [ 1.        ,  2.        ,  0.05155735,  2.        ]])"
      ]
     },
     "execution_count": 4,
     "metadata": {},
     "output_type": "execute_result"
    }
   ],
   "source": [
    "X_st = X.copy()\n",
    "X_st[:, 2] = standard_scale(X[:, 2])\n",
    "X_st"
   ]
  },
  {
   "cell_type": "code",
   "execution_count": 5,
   "metadata": {},
   "outputs": [],
   "source": [
    "def sigmoid(z):\n",
    "    res = 1 / (1 + np.exp(-z))\n",
    "    return res"
   ]
  },
  {
   "cell_type": "markdown",
   "metadata": {},
   "source": [
    "**Задание 1.\n",
    "Измените функцию calc_logloss так, чтобы нули по возможности не попадали в np.log.**"
   ]
  },
  {
   "cell_type": "code",
   "execution_count": 6,
   "metadata": {},
   "outputs": [],
   "source": [
    "def calc_logloss(y, y_pred):\n",
    "    y_pred_mod = [x + 0.0001 if x==0 else x for x in y_pred]\n",
    "    y_pred = np.array([x - 0.0001 if x==1 else x for x in y_pred_mod])\n",
    "    err = - np.mean(y * np.log(y_pred) + (1.0 - y) * np.log(1.0 - y_pred))\n",
    "    return err"
   ]
  },
  {
   "cell_type": "code",
   "execution_count": 7,
   "metadata": {},
   "outputs": [
    {
     "data": {
      "text/plain": [
       "0.05273026032907981"
      ]
     },
     "execution_count": 7,
     "metadata": {},
     "output_type": "execute_result"
    }
   ],
   "source": [
    "y1 = np.array([1, 0])\n",
    "y_pred1 = np.array([1, 0.1])\n",
    "calc_logloss(y1, y_pred1)"
   ]
  },
  {
   "cell_type": "markdown",
   "metadata": {},
   "source": [
    "**Задание 2.\n",
    "Подберите аргументы функции eval_model для логистической регрессии таким образом, чтобы log loss был минимальным.**"
   ]
  },
  {
   "cell_type": "code",
   "execution_count": 8,
   "metadata": {},
   "outputs": [],
   "source": [
    "def eval_model(X, y, iterations, eta=1e-4):\n",
    "    np.random.seed(42)\n",
    "    W = np.random.randn(X.shape[1])\n",
    "    n = X.shape[0]\n",
    "    \n",
    "    for i in range(iterations):\n",
    "        z = np.dot(X, W)\n",
    "        y_pred = sigmoid(z)\n",
    "        err = calc_logloss(y, y_pred)\n",
    "        \n",
    "        dQ = 1/n * X.T @ (y_pred - y)\n",
    "        W -= eta * dQ\n",
    "        if i % 100 == 0:\n",
    "            print(i, W, err)\n",
    "    return W, err"
   ]
  },
  {
   "cell_type": "code",
   "execution_count": 9,
   "metadata": {},
   "outputs": [],
   "source": [
    "def select_params(etas, n_iters):\n",
    "    errors_full = {}\n",
    "    for i in n_iters:\n",
    "        errors_full[i]=[]\n",
    "\n",
    "    best_error = np.inf\n",
    "    best_params = {}\n",
    "\n",
    "    np.random.seed(42)\n",
    "    W_start = np.random.randn(X_st.shape[1])\n",
    "    n = X_st.shape[0]\n",
    "\n",
    "    for eta in etas:\n",
    "        for n_iter in n_iters:\n",
    "            W = W_start.copy()\n",
    "            curr_eta = eta\n",
    "\n",
    "            for i in range(n_iter):\n",
    "                z = np.dot(X_st, W)\n",
    "                y_pred = sigmoid(z)\n",
    "                err = calc_logloss(y, y_pred)\n",
    "\n",
    "                dQ = 1/n * X_st.T @ (y_pred - y)\n",
    "                W -= curr_eta * dQ\n",
    "            errors_full[n_iter].append(err)\n",
    "            #print(curr_eta, n_iter, err, W)\n",
    "            if err < best_error:\n",
    "                best_error = err\n",
    "                best_params = {\n",
    "                    'eta': curr_eta,\n",
    "                    'n_iter': n_iter\n",
    "                }\n",
    "    #print(f'Лучшая ошибка {best_error} с параметрами {best_params}')\n",
    "    return best_error, best_params, errors_full"
   ]
  },
  {
   "cell_type": "code",
   "execution_count": 10,
   "metadata": {},
   "outputs": [
    {
     "name": "stdout",
     "output_type": "stream",
     "text": [
      "Лучшая ошибка 0.018969185710984854 с параметрами {'eta': 19.808080808080806, 'n_iter': 5000}\n",
      "Лучшая ошибка 0.1438003796511719 с параметрами {'eta': 1.0, 'n_iter': 5000}\n"
     ]
    }
   ],
   "source": [
    "# Сначала рассмотрим большие etas\n",
    "etas_1 = np.linspace(1, 20, 100)\n",
    "n_iters_1 = [10, 100, 250, 500, 800, 1000, 5000]\n",
    "\n",
    "result_1 = select_params(etas_1, n_iters_1)\n",
    "print(f'Лучшая ошибка {result_1[0]} с параметрами {result_1[1]}')\n",
    "\n",
    "# Теперь рассмотрим etas<=1\n",
    "etas_2 = np.linspace(1e-6, 1, 100)\n",
    "n_iters_2 = [10, 100, 250, 500, 800, 1000, 5000]\n",
    "result_2 = select_params(etas_2, n_iters_2)\n",
    "print(f'Лучшая ошибка {result_2[0]} с параметрами {result_2[1]}')"
   ]
  },
  {
   "cell_type": "code",
   "execution_count": 11,
   "metadata": {},
   "outputs": [
    {
     "name": "stdout",
     "output_type": "stream",
     "text": [
      "0 [-0.64144649 -4.49089227  0.56554728 -0.17540895] 1.1785958344356262\n",
      "100 [-8.22246403 -5.69918923  1.37871718 11.50108478] 0.8813807511578317\n",
      "200 [-13.65808356  -2.03435024  -2.68080052  12.22231623] 0.21824770183199083\n",
      "300 [-16.35536529  -2.34823417  -3.94277613  13.79514445] 0.19855199112601468\n",
      "400 [-17.64897713  -2.58113172  -4.3428572   14.8996011 ] 0.1989538691508405\n",
      "500 [-18.83846034  -2.48013174  -4.70968291  15.83952151] 0.18133358098552604\n",
      "600 [-19.91794603  -2.49697621  -5.05434406  16.67364291] 0.17253852741296652\n",
      "700 [-20.90628618  -2.51934508  -5.36365373  17.44307522] 0.16537730858420022\n",
      "0 [ 0.49292028 -0.15277306  0.64741473  1.51736839] 1.1785958344356262\n",
      "100 [ 0.29954562 -0.70184086  0.66393101  1.28809857] 0.5200176817937363\n",
      "200 [ 0.21783205 -0.71711535  0.72830416  1.28039917] 0.5083938298746018\n",
      "300 [ 0.15081179 -0.71601562  0.78172777  1.29014996] 0.500908097886405\n",
      "400 [ 0.09214433 -0.71718068  0.82443144  1.306414  ] 0.49535059743739646\n",
      "500 [ 0.03982235 -0.72064774  0.8585723   1.32719824] 0.49098749514946327\n",
      "600 [-0.00760312 -0.72573949  0.88595525  1.35123708] 0.48737496424720916\n",
      "700 [-0.05125883 -0.73192167  0.90799082  1.37755197] 0.4842468146117195\n",
      "______________________________________\n",
      "eta=3 W=[-21.74954945  -2.34011382  -5.62911512  18.25484958] LogLoss=0.16253174663830494\n",
      "\n",
      "eta=0.01 W=[-0.09161818 -0.73872879  0.9256099   1.40510823] LogLoss=0.48147026441365226\n"
     ]
    }
   ],
   "source": [
    "W_1 = eval_model(X_st, y, iterations=800, eta=3)\n",
    "W1 = W_1[0]\n",
    "W_2 = eval_model(X_st, y, iterations=800, eta=0.01)\n",
    "W2 = W_2[0]\n",
    "print('______________________________________')\n",
    "print(f'eta={3} W={W_1[0]} LogLoss={W_1[1]}\\n')\n",
    "print(f'eta={0.01} W={W_2[0]} LogLoss={W_2[1]}')"
   ]
  },
  {
   "cell_type": "markdown",
   "metadata": {},
   "source": [
    "**Задание 3.\n",
    "Создайте функцию calc_pred_proba, возвращающую предсказанную вероятность класса 1 \n",
    "(на вход подаются W, который уже посчитан функцией eval_model и X, на выходе - массив y_pred_proba).**"
   ]
  },
  {
   "cell_type": "code",
   "execution_count": 12,
   "metadata": {},
   "outputs": [],
   "source": [
    "def calc_pred_proba(X, W):\n",
    "    y_pred_proba = sigmoid(np.dot(W, X))\n",
    "    return y_pred_proba"
   ]
  },
  {
   "cell_type": "code",
   "execution_count": 13,
   "metadata": {},
   "outputs": [
    {
     "name": "stdout",
     "output_type": "stream",
     "text": [
      "y_orig = [0. 0. 1. 0. 1. 0. 1. 0. 1. 1.]\n",
      "\n",
      "W1 = [-21.74954945  -2.34011382  -5.62911512  18.25484958]\n",
      "y_pred_proba_1 = [4.20531831e-01 6.64609202e-02 9.99996924e-01 1.95613581e-05\n",
      " 9.02523652e-01 1.87986932e-01 9.99999754e-01 9.23517765e-02\n",
      " 5.64600397e-01 9.99943977e-01]\n",
      "W2 = [-0.09161818 -0.73872879  0.9256099   1.40510823]\n",
      "y_pred_proba_2 = [0.41776462 0.51245225 0.69245945 0.04327322 0.80362866 0.72699631\n",
      " 0.80724768 0.21299272 0.39474721 0.78395463]\n"
     ]
    }
   ],
   "source": [
    "print(f'y_orig = {y}\\n')\n",
    "print(f'W1 = {W1}')\n",
    "y_pred_proba_1 = calc_pred_proba(X_st.T, W1)\n",
    "print(f'y_pred_proba_1 = {y_pred_proba_1}')\n",
    "print(f'W2 = {W2}')\n",
    "y_pred_proba_2 = calc_pred_proba(X_st.T, W2)\n",
    "print(f'y_pred_proba_2 = {y_pred_proba_2}')"
   ]
  },
  {
   "cell_type": "markdown",
   "metadata": {},
   "source": [
    "**Задание 4.\n",
    "Создайте функцию calc_pred, возвращающую предсказанный класс \n",
    "(на вход подаются W, который уже посчитан функцией eval_model и X, на выходе - массив y_pred).**"
   ]
  },
  {
   "cell_type": "code",
   "execution_count": 14,
   "metadata": {},
   "outputs": [],
   "source": [
    "def calc_pred (X, W):\n",
    "    y_pred = sigmoid(np.dot(W, X))\n",
    "    y_pred[y_pred <= 0.5] = 0\n",
    "    y_pred[y_pred > 0.5] = 1\n",
    "    return y_pred"
   ]
  },
  {
   "cell_type": "code",
   "execution_count": 15,
   "metadata": {},
   "outputs": [
    {
     "name": "stdout",
     "output_type": "stream",
     "text": [
      "y_orig = [0. 0. 1. 0. 1. 0. 1. 0. 1. 1.]\n",
      "\n",
      "W1 = [-21.74954945  -2.34011382  -5.62911512  18.25484958]\n",
      "y_pred_1 = [0. 0. 1. 0. 1. 0. 1. 0. 1. 1.]\n",
      "W2 = [-0.09161818 -0.73872879  0.9256099   1.40510823]\n",
      "y_pred_2 = [0. 1. 1. 0. 1. 1. 1. 0. 0. 1.]\n"
     ]
    }
   ],
   "source": [
    "print(f'y_orig = {y}\\n')\n",
    "\n",
    "print(f'W1 = {W1}')\n",
    "y_pred_1 = calc_pred(X_st.T, W1)\n",
    "print(f'y_pred_1 = {y_pred_1}')\n",
    "print(f'W2 = {W2}')\n",
    "y_pred_2 = calc_pred(X_st.T, W2)\n",
    "print(f'y_pred_2 = {y_pred_2}')"
   ]
  },
  {
   "cell_type": "code",
   "execution_count": null,
   "metadata": {},
   "outputs": [],
   "source": []
  }
 ],
 "metadata": {
  "kernelspec": {
   "display_name": "Python 3",
   "language": "python",
   "name": "python3"
  },
  "language_info": {
   "codemirror_mode": {
    "name": "ipython",
    "version": 3
   },
   "file_extension": ".py",
   "mimetype": "text/x-python",
   "name": "python",
   "nbconvert_exporter": "python",
   "pygments_lexer": "ipython3",
   "version": "3.7.6"
  }
 },
 "nbformat": 4,
 "nbformat_minor": 4
}
