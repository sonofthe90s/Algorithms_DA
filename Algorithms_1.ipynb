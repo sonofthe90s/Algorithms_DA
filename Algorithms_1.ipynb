{
 "cells": [
  {
   "cell_type": "markdown",
   "metadata": {},
   "source": [
    "*Домашнее задание*"
   ]
  },
  {
   "cell_type": "markdown",
   "metadata": {},
   "source": [
    "Задание 1.\n",
    "Подберите скорость обучения (eta) и количество итераций"
   ]
  },
  {
   "cell_type": "code",
   "execution_count": 1,
   "metadata": {},
   "outputs": [],
   "source": [
    "import numpy as np\n",
    "import matplotlib.pyplot as plt"
   ]
  },
  {
   "cell_type": "code",
   "execution_count": 2,
   "metadata": {},
   "outputs": [],
   "source": [
    "def calc_mse(y, y_pred):\n",
    "    err = np.mean((y - y_pred)**2)\n",
    "    return err"
   ]
  },
  {
   "cell_type": "code",
   "execution_count": 3,
   "metadata": {},
   "outputs": [],
   "source": [
    "X = np.array([[ 1,  1],\n",
    "              [ 1,  1],\n",
    "              [ 1,  2],\n",
    "              [ 1,  5],\n",
    "              [ 1,  3],\n",
    "              [ 1,  0],\n",
    "              [ 1,  5],\n",
    "              [ 1, 10],\n",
    "              [ 1,  1],\n",
    "              [ 1,  2]])"
   ]
  },
  {
   "cell_type": "code",
   "execution_count": 4,
   "metadata": {},
   "outputs": [],
   "source": [
    "y = [45, 55, 50, 55, 60, 35, 75, 80, 50, 60]"
   ]
  },
  {
   "cell_type": "code",
   "execution_count": 5,
   "metadata": {},
   "outputs": [
    {
     "data": {
      "image/png": "[encoded data removed]",
      "text/plain": [
       "<Figure size 432x288 with 1 Axes>"
      ]
     },
     "metadata": {
      "needs_background": "light"
     },
     "output_type": "display_data"
    }
   ],
   "source": [
    "plt.scatter(X[:, 1], y)\n",
    "plt.show()"
   ]
  },
  {
   "cell_type": "code",
   "execution_count": 6,
   "metadata": {},
   "outputs": [
    {
     "name": "stdout",
     "output_type": "stream",
     "text": [
      "Number of objects = 10        \n",
      "Learning rate = 0.01        \n",
      "Initial weights = [1.  0.5] \n",
      "\n",
      "Iteration #0: W_new = [2.08 4.27], MSE = 3047.75\n",
      "Iteration #10: W_new = [ 6.67106886 10.61676385], MSE = 749.71\n",
      "Iteration #20: W_new = [ 9.49320908 10.25731657], MSE = 648.91\n",
      "Iteration #30: W_new = [11.85740092  9.83349244], MSE = 570.46\n",
      "Iteration #40: W_new = [13.86876921  9.46898661], MSE = 508.03\n",
      "Iteration #50: W_new = [15.59085668  9.15672679], MSE = 457.73\n",
      "Iteration #60: W_new = [17.07337653  8.88789585], MSE = 416.77\n",
      "Iteration #70: W_new = [18.35601294  8.65530964], MSE = 383.06\n",
      "Iteration #80: W_new = [19.47073522  8.45317196], MSE = 355.08\n",
      "Iteration #90: W_new = [20.44350656  8.27677488], MSE = 331.65\n",
      "Iteration #100: W_new = [21.29557245  8.12226587], MSE = 311.9\n",
      "Iteration #110: W_new = [22.044442    7.98646992], MSE = 295.12\n",
      "Iteration #120: W_new = [22.7046421   7.86675281], MSE = 280.78\n",
      "Iteration #130: W_new = [23.2883015   7.76091518], MSE = 268.46\n",
      "Iteration #140: W_new = [23.80560705  7.66710979], MSE = 257.81\n",
      "Iteration #150: W_new = [24.26516249  7.5837765 ], MSE = 248.58\n",
      "Iteration #160: W_new = [24.67427278  7.50959066], MSE = 240.53\n",
      "Iteration #170: W_new = [25.03917079  7.44342203], MSE = 233.49\n",
      "Iteration #180: W_new = [25.36519943  7.38430176], MSE = 227.31\n",
      "Iteration #190: W_new = [25.65695861  7.33139573], MSE = 221.86\n",
      "Iteration #200: W_new = [25.91842478  7.28398287], MSE = 217.05\n",
      "Iteration #210: W_new = [26.15304857  7.24143747], MSE = 212.8\n",
      "Iteration #220: W_new = [26.36383499  7.2032146 ], MSE = 209.02\n",
      "Iteration #230: W_new = [26.55340974  7.16883814], MSE = 205.65\n",
      "Iteration #240: W_new = [26.72407419  7.13789077], MSE = 202.66\n",
      "Iteration #250: W_new = [26.87785132  7.11000566], MSE = 199.98\n",
      "Iteration #260: W_new = [27.01652415  7.08485948], MSE = 197.59\n",
      "Iteration #270: W_new = [27.14166815  7.06216655], MSE = 195.44\n",
      "Iteration #280: W_new = [27.25467861  7.04167384], MSE = 193.52\n",
      "Iteration #290: W_new = [27.35679393  7.02315681], MSE = 191.79\n",
      "Iteration #300: W_new = [27.44911541  7.00641573], MSE = 190.24\n",
      "Iteration #310: W_new = [27.53262425  6.99127269], MSE = 188.84\n",
      "Iteration #320: W_new = [27.60819612  6.97756889], MSE = 187.58\n",
      "Iteration #330: W_new = [27.67661373  6.96516242], MSE = 186.45\n",
      "Iteration #340: W_new = [27.73857771  6.9539262 ], MSE = 185.42\n",
      "Iteration #350: W_new = [27.79471602  6.94374639], MSE = 184.5\n",
      "Iteration #360: W_new = [27.84559223  6.93452077], MSE = 183.66\n",
      "Iteration #370: W_new = [27.89171262  6.92615755], MSE = 182.91\n",
      "Iteration #380: W_new = [27.93353252  6.91857415], MSE = 182.23\n",
      "Iteration #390: W_new = [27.9714618   6.91169626], MSE = 181.61\n",
      "Iteration #400: W_new = [28.00586973  6.90545692], MSE = 181.05\n",
      "Iteration #410: W_new = [28.03708926  6.89979574], MSE = 180.54\n",
      "Iteration #420: W_new = [28.06542083  6.89465824], MSE = 180.08\n",
      "Iteration #430: W_new = [28.0911357   6.88999525], MSE = 179.67\n",
      "Iteration #440: W_new = [28.11447893  6.88576231], MSE = 179.29\n",
      "Iteration #450: W_new = [28.13567205  6.88191927], MSE = 178.95\n",
      "Iteration #460: W_new = [28.15491542  6.87842978], MSE = 178.64\n",
      "Iteration #470: W_new = [28.17239031  6.87526098], MSE = 178.36\n",
      "Iteration #480: W_new = [28.18826083  6.8723831 ], MSE = 178.1\n",
      "Iteration #490: W_new = [28.20267557  6.86976921], MSE = 177.87\n",
      "Iteration #500: W_new = [28.21576915  6.86739489], MSE = 177.66\n",
      "Iteration #510: W_new = [28.22766353  6.86523803], MSE = 177.47\n",
      "Iteration #520: W_new = [28.23846929  6.86327857], MSE = 177.3\n",
      "Iteration #530: W_new = [28.24828665  6.86149835], MSE = 177.14\n",
      "Iteration #540: W_new = [28.25720653  6.85988086], MSE = 177.0\n",
      "Iteration #550: W_new = [28.26531139  6.85841117], MSE = 176.87\n",
      "Iteration #560: W_new = [28.27267604  6.85707571], MSE = 176.75\n",
      "Iteration #570: W_new = [28.27936835  6.85586216], MSE = 176.64\n",
      "Iteration #580: W_new = [28.28544995  6.85475935], MSE = 176.55\n",
      "Iteration #590: W_new = [28.29097675  6.85375715], MSE = 176.46\n",
      "Iteration #600: W_new = [28.29599953  6.85284635], MSE = 176.38\n",
      "Iteration #610: W_new = [28.30056439  6.85201858], MSE = 176.31\n",
      "Iteration #620: W_new = [28.30471317  6.85126627], MSE = 176.24\n",
      "Iteration #630: W_new = [28.30848389  6.8505825 ], MSE = 176.18\n",
      "Iteration #640: W_new = [28.31191108  6.84996104], MSE = 176.13\n",
      "Iteration #650: W_new = [28.3150261   6.84939618], MSE = 176.08\n",
      "Iteration #660: W_new = [28.31785743  6.84888276], MSE = 176.03\n",
      "Iteration #670: W_new = [28.32043095  6.84841609], MSE = 175.99\n",
      "Iteration #680: W_new = [28.32277016  6.84799191], MSE = 175.95\n",
      "Iteration #690: W_new = [28.32489644  6.84760634], MSE = 175.92\n",
      "Iteration #700: W_new = [28.32682918  6.84725587], MSE = 175.89\n",
      "Iteration #710: W_new = [28.32858603  6.84693729], MSE = 175.86\n",
      "Iteration #720: W_new = [28.330183    6.84664771], MSE = 175.83\n",
      "Iteration #730: W_new = [28.33163466  6.84638447], MSE = 175.81\n",
      "Iteration #740: W_new = [28.33295423  6.84614518], MSE = 175.79\n",
      "Iteration #750: W_new = [28.33415376  6.84592767], MSE = 175.77\n",
      "Iteration #760: W_new = [28.33524417  6.84572994], MSE = 175.75\n",
      "Iteration #770: W_new = [28.33623538  6.8455502 ], MSE = 175.74\n",
      "Iteration #780: W_new = [28.33713643  6.84538681], MSE = 175.72\n",
      "Iteration #790: W_new = [28.33795553  6.84523828], MSE = 175.71\n",
      "Iteration #800: W_new = [28.33870013  6.84510326], MSE = 175.7\n",
      "Iteration #810: W_new = [28.33937701  6.84498051], MSE = 175.69\n",
      "Iteration #820: W_new = [28.33999233  6.84486894], MSE = 175.68\n",
      "Iteration #830: W_new = [28.34055169  6.8447675 ], MSE = 175.67\n",
      "Iteration #840: W_new = [28.34106018  6.8446753 ], MSE = 175.66\n",
      "Iteration #850: W_new = [28.34152244  6.84459147], MSE = 175.65\n",
      "Iteration #860: W_new = [28.34194266  6.84451527], MSE = 175.65\n",
      "Iteration #870: W_new = [28.34232467  6.844446  ], MSE = 175.64\n",
      "Iteration #880: W_new = [28.34267194  6.84438303], MSE = 175.64\n",
      "Iteration #890: W_new = [28.34298764  6.84432578], MSE = 175.63\n",
      "Iteration #900: W_new = [28.34327463  6.84427374], MSE = 175.63\n",
      "Iteration #910: W_new = [28.34353553  6.84422643], MSE = 175.62\n",
      "Iteration #920: W_new = [28.3437727   6.84418342], MSE = 175.62\n",
      "Iteration #930: W_new = [28.34398832  6.84414432], MSE = 175.61\n",
      "Iteration #940: W_new = [28.34418432  6.84410878], MSE = 175.61\n",
      "Iteration #950: W_new = [28.34436251  6.84407647], MSE = 175.61\n",
      "Iteration #960: W_new = [28.3445245  6.8440471], MSE = 175.61\n",
      "Iteration #970: W_new = [28.34467176  6.84402039], MSE = 175.6\n",
      "Iteration #980: W_new = [28.34480563  6.84399612], MSE = 175.6\n",
      "Iteration #990: W_new = [28.34492733  6.84397405], MSE = 175.6\n"
     ]
    }
   ],
   "source": [
    "n_1 = X.shape[0]\n",
    "\n",
    "eta_1 = 0.01\n",
    "n_iter_1 = 1000\n",
    "\n",
    "W_1 = np.array([1, 0.5])\n",
    "print(f'Number of objects = {n_1} \\\n",
    "       \\nLearning rate = {eta_1} \\\n",
    "       \\nInitial weights = {W_1} \\n')\n",
    "\n",
    "for i in range(n_iter_1):\n",
    "    y_pred_1 = np.dot(X, W_1)\n",
    "    err_1 = calc_mse(y, y_pred_1)\n",
    "    for k in range(W_1.shape[0]):\n",
    "        W_1[k] -= eta_1 * (1/n_1 * 2 * X[:, k] @ (y_pred_1 - y))\n",
    "    if i % 10 == 0:\n",
    "        eta_1 /= 1.1\n",
    "        print(f'Iteration #{i}: W_new = {W_1}, MSE = {round(err_1, 2)}')"
   ]
  },
  {
   "cell_type": "markdown",
   "metadata": {},
   "source": [
    "Задание 2.\n",
    "В коде есть ошибка, исправьте ее."
   ]
  },
  {
   "cell_type": "code",
   "execution_count": 15,
   "metadata": {},
   "outputs": [
    {
     "name": "stdout",
     "output_type": "stream",
     "text": [
      "Number of objects = 2        \n",
      "Learning rate = 0.01        \n",
      "Initial weights = [1.  0.5] \n",
      "\n",
      "Iteration #0: W_new = [ 6.4  19.35], MSE = 3047.75\n",
      "Iteration #10: W_new = [19.96966932  8.87179137], MSE = 379.6\n",
      "Iteration #20: W_new = [29.27719328  6.70531799], MSE = 172.93\n",
      "Iteration #30: W_new = [35.16120834  5.60976141], MSE = 94.66\n",
      "Iteration #40: W_new = [38.85365942  4.93848587], MSE = 63.9\n",
      "Iteration #50: W_new = [41.16920131  4.51849616], MSE = 51.81\n",
      "Iteration #60: W_new = [42.62118483  4.25519525], MSE = 47.05\n",
      "Iteration #70: W_new = [43.53165976  4.0900943 ], MSE = 45.18\n",
      "Iteration #80: W_new = [44.10257814  3.98656703], MSE = 44.45\n",
      "Iteration #90: W_new = [44.46057568  3.9216497 ], MSE = 44.16\n"
     ]
    }
   ],
   "source": [
    "n_2 = X.shape[1]\n",
    "\n",
    "eta_2 = 1e-2\n",
    "n_iter_2 = 100\n",
    "\n",
    "W_2 = np.array([1, 0.5])\n",
    "print(f'Number of objects = {n_2} \\\n",
    "       \\nLearning rate = {eta_2} \\\n",
    "       \\nInitial weights = {W_2} \\n')\n",
    "\n",
    "for i in range(n_iter_2):\n",
    "    y_pred_2 = np.dot(X, W_2)\n",
    "    err_2 = calc_mse(y, y_pred_2)\n",
    "#     for k in range(W.shape[0]):\n",
    "#         W[k] -= eta * (1/n * 2 * X[:, k] @ (y_pred - y))\n",
    "#     ИЗМЕНЕНИЯ - замена X на X.T\n",
    "    W_2 -= eta_2 * (1/n_2 * 2 * np.dot(X.T, (y_pred_2 - y)))\n",
    "#     ИЗМЕНЕНИЯ\n",
    "    if i % 10 == 0:\n",
    "        print(f'Iteration #{i}: W_new = {W_2}, MSE = {round(err_2,2)}')"
   ]
  },
  {
   "cell_type": "code",
   "execution_count": null,
   "metadata": {},
   "outputs": [],
   "source": []
  }
 ],
 "metadata": {
  "kernelspec": {
   "display_name": "Python 3",
   "language": "python",
   "name": "python3"
  },
  "language_info": {
   "codemirror_mode": {
    "name": "ipython",
    "version": 3
   },
   "file_extension": ".py",
   "mimetype": "text/x-python",
   "name": "python",
   "nbconvert_exporter": "python",
   "pygments_lexer": "ipython3",
   "version": "3.7.6"
  }
 },
 "nbformat": 4,
 "nbformat_minor": 4
}
